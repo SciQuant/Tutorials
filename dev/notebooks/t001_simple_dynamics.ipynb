{
 "cells": [
  {
   "cell_type": "markdown",
   "source": [
    "# Tutorial 1: Simple Dynamics"
   ],
   "metadata": {}
  },
  {
   "cell_type": "markdown",
   "source": [
    "In this tutorial, you will learn:\n",
    "\n",
    "   -  How to declare dynamics with arbitrary coefficients\n",
    "   -  How to declare dynamics with known coefficients\n",
    "   -  How to declare dynamical systems\n",
    "\n",
    "\n",
    "# Introduction\n",
    "\n",
    "In **UniversalDynamics** a dynamics represents continuous time, ``D``-dimensional Ito\n",
    "Systems of Stochastic Differential Equations (SDEs) in a time span ``\\mathbb{I} =\n",
    "\\left[t_0, T \\right]``:\n",
    "\n",
    "$$\n",
    "d\\vec{u}(t) = f(t, \\vec{u}(t)) \\cdot dt + g(t, \\vec{u}(t)) \\cdot d\\vec{W}(t), \\quad \\vec{u}(t_0) = \\vec{u}_0,\\\\\n",
    "$$\n",
    "\n",
    "with drift coefficient ``f \\colon \\mathbb{I} \\times \\mathbb{R}^D \\rightarrow\n",
    "\\mathbb{R}^D``, diffusion coefficient ``g \\colon \\mathbb{I} \\times \\mathbb{R}^D\n",
    "\\rightarrow \\mathbb{R}^{D \\times M}``, ``M``-dimensional driving Wiener correlated or\n",
    "uncorrelated process ``\\vec{W}(t)`` and initial condition ``\\vec{u}_0``.\n",
    "\n",
    "The library represents dynamics by means of two main types, `SystemDynamics` and\n",
    "`ModelDynamics`. The first case refers to SDEs with arbitrary coefficients while the\n",
    "second case is a supertype for dynamics with known coefficients that are already\n",
    "implemented in the library.\n",
    "\n",
    "Finally, as discussed in the [documentation](https://sciquant.github.io/UniversalDynamics.jl/dev/ad/dynamics.html#Introduction),\n",
    "the general expression of a dynamics can be reduced depending on the noise type."
   ],
   "metadata": {}
  },
  {
   "outputs": [],
   "cell_type": "code",
   "source": [
    "# Setup"
   ],
   "metadata": {},
   "execution_count": null
  },
  {
   "cell_type": "markdown",
   "source": [
    "The first step is to load the library:"
   ],
   "metadata": {}
  },
  {
   "outputs": [],
   "cell_type": "code",
   "source": [
    "using UniversalDynamics\n",
    "\n",
    "# System Dynamics"
   ],
   "metadata": {},
   "execution_count": null
  },
  {
   "cell_type": "markdown",
   "source": [
    "A System of Stochastic Differential Equations is declared by its initial condition,\n",
    "initial time, noise type and noise correlations, for example:"
   ],
   "metadata": {}
  },
  {
   "outputs": [],
   "cell_type": "code",
   "source": [
    "x = SystemDynamics(rand(1); noise=ScalarNoise())\n",
    "y = SystemDynamics(rand(2); noise=DiagonalNoise(2), ρ=[1 0.3; 0.3 1])\n",
    "z = SystemDynamics(rand(3); noise=NonDiagonalNoise(2), ρ=[1 0.2; 0.2 1])\n",
    "\n",
    "# Model Dynamics"
   ],
   "metadata": {},
   "execution_count": null
  },
  {
   "cell_type": "markdown",
   "source": [
    "A Model Dynamics refers to Stochastic Differential Equations that are known and fairly\n",
    "common in finance, such that is worth having their coefficients implemented in the\n",
    "library. In this case,  we need to provide the additional known parameters to the\n",
    "dynamics. For example, a One Factor Short Rate Model of Affine type that yields to the well\n",
    "known Vasicek model, can be given as:"
   ],
   "metadata": {}
  },
  {
   "outputs": [],
   "cell_type": "code",
   "source": [
    "r0 = rand(1)\n",
    "\n",
    "ϰ = 0.4363\n",
    "ϑ = 0.0613\n",
    "σ = 0.1491\n",
    "\n",
    "κ(t) = ϰ\n",
    "θ(t) = ϑ\n",
    "Σ(t) = σ\n",
    "\n",
    "r = OneFactorAffineModelDynamics(r0, κ, θ, Σ, one, zero)"
   ],
   "metadata": {},
   "execution_count": null
  },
  {
   "cell_type": "markdown",
   "source": [
    "group dynamics in a container"
   ],
   "metadata": {}
  },
  {
   "outputs": [],
   "cell_type": "code",
   "source": [
    "dynamics = [:x => x, :y => y, :z => z]"
   ],
   "metadata": {},
   "execution_count": null
  },
  {
   "cell_type": "markdown",
   "source": [
    "compute dynamical system"
   ],
   "metadata": {}
  },
  {
   "outputs": [],
   "cell_type": "code",
   "source": [
    "ds = DynamicalSystem(dynamics)"
   ],
   "metadata": {},
   "execution_count": null
  },
  {
   "cell_type": "markdown",
   "source": [
    "---\n",
    "\n",
    "*This notebook was generated using [Literate.jl](https://github.com/fredrikekre/Literate.jl).*"
   ],
   "metadata": {}
  }
 ],
 "nbformat_minor": 3,
 "metadata": {
  "language_info": {
   "file_extension": ".jl",
   "mimetype": "application/julia",
   "name": "julia",
   "version": "1.5.3"
  },
  "kernelspec": {
   "name": "julia-1.5",
   "display_name": "Julia 1.5.3",
   "language": "julia"
  }
 },
 "nbformat": 4
}
