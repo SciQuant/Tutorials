{
 "cells": [
  {
   "cell_type": "markdown",
   "source": [
    "# Tutorial 3: Coefficients (out of place)"
   ],
   "metadata": {}
  },
  {
   "cell_type": "markdown",
   "source": [
    "In this tutorial, you will learn:\n",
    "\n",
    "   - How to declare out-of-place coefficients for dynamical systems.\n",
    "\n",
    "## Introduction\n",
    "\n",
    "In the previous tutorial we have learned how to declare in-place coefficients. We now\n",
    "focus on the out-of-place case.\n",
    "\n",
    "## Setup\n",
    "\n",
    "The first step is to load the pertinent libraries for the tutorial:"
   ],
   "metadata": {}
  },
  {
   "outputs": [],
   "cell_type": "code",
   "source": [
    "using UniversalDynamics\n",
    "using UnPack\n",
    "using Plots"
   ],
   "metadata": {},
   "execution_count": null
  },
  {
   "cell_type": "markdown",
   "source": [
    "## Out of place coefficients\n",
    "\n",
    "We will implement the same problem as in the previous tutorial with in-place coefficients:"
   ],
   "metadata": {}
  },
  {
   "outputs": [],
   "cell_type": "code",
   "source": [
    "S0 = @SVector rand(1)\n",
    "S = SystemDynamics(S0)\n",
    "\n",
    "include(\"assets/DaiSingletonParameters_A3_1.jl\")\n",
    "const υ₀, θ₀, r₀, μ, ν, κ_rυ, κ, ῡ, θ̄, η, σ_θυ, σ_θr, σ_rυ, σ_rθ, ζ, α_r, β_θ = DaiSingletonParameters()"
   ],
   "metadata": {},
   "execution_count": null
  },
  {
   "cell_type": "markdown",
   "source": [
    "Define all Short Rate model parameters, taking into account OOP coefficients and parameters:"
   ],
   "metadata": {}
  },
  {
   "outputs": [],
   "cell_type": "code",
   "source": [
    "x0 = @SVector [υ₀, θ₀, r₀]\n",
    "\n",
    "ξ₀(t) = zero(t) # ξ₀ = zero\n",
    "ξ₁(t) = @SVector [0, 0, 1]\n",
    "\n",
    "ϰ(t) = @SMatrix([\n",
    "    μ     0 0\n",
    "    0     ν 0\n",
    "    κ_rυ -κ κ\n",
    "])\n",
    "θ(t) = @SVector [ῡ, θ̄, θ̄ ]\n",
    "Σ(t) = @SMatrix [\n",
    "    η           0    0\n",
    "    η * σ_θυ    1 σ_θr\n",
    "    η * σ_rυ σ_rθ    1\n",
    "]\n",
    "\n",
    "α(t) = @SVector [0, ζ^2, α_r]\n",
    "β(t) = @SMatrix [\n",
    "    1   0 0\n",
    "    β_θ 0 0\n",
    "    1   0 0\n",
    "]\n",
    "\n",
    "x = MultiFactorAffineModelDynamics(x0, ϰ, θ, Σ, α, β, ξ₀, ξ₁; noise=NonDiagonalNoise(3))"
   ],
   "metadata": {},
   "execution_count": null
  },
  {
   "outputs": [],
   "cell_type": "code",
   "source": [
    "B = SystemDynamics(one(eltype(x)))"
   ],
   "metadata": {},
   "execution_count": null
  },
  {
   "cell_type": "markdown",
   "source": [
    "Now, let's construct the OOP drift `f` and diffusion `g` coefficients for this scenario:"
   ],
   "metadata": {}
  },
  {
   "outputs": [],
   "cell_type": "code",
   "source": [
    "function f(u, p, t)\n",
    "    @unpack _dynamics, _securities_ = p\n",
    "    @unpack _x = _dynamics\n",
    "    @unpack _S_, _x_, _B_ = _securities_\n",
    "\n",
    "    S = remake(_S_, u, t)\n",
    "    x = remake(_x_, u, t)\n",
    "    B = remake(_B_, u, t)\n",
    "\n",
    "    IR = FixedIncomeSecurities(_x, x, B)\n",
    "\n",
    "    dS = IR.r(t) * S(t)\n",
    "    dx = drift(x(t), get_parameters(_x), t)\n",
    "    dB = IR.r(t) * B(t)\n",
    "\n",
    "    return vcat(dS, dx, dB)\n",
    "end\n",
    "\n",
    "function g(u, p, t)\n",
    "    @unpack _dynamics, _securities_ = p\n",
    "    @unpack _x = _dynamics\n",
    "    @unpack _S_, _x_, _B_ = _securities_\n",
    "    @unpack σ = p\n",
    "\n",
    "    S = remake(_S_, u, t)\n",
    "    x = remake(_x_, u, t)\n",
    "    B = remake(_B_, u, t)\n",
    "\n",
    "    dS = σ * S(t)\n",
    "    dx = diffusion(x(t), get_parameters(_x), t)\n",
    "    dB = zero(eltype(u))\n",
    "\n",
    "    return @SMatrix [dS       0       0       0  0\n",
    "                      0 dx[1,1] dx[1,2] dx[1,3]  0\n",
    "                      0 dx[2,1] dx[2,2] dx[2,3]  0\n",
    "                      0 dx[3,1] dx[3,2] dx[3,3]  0\n",
    "                      0       0       0       0 dB]\n",
    "end\n",
    "\n",
    "dynamics = [:S => S, :x => x, :B => B]\n",
    "ds = DynamicalSystem(f, g, dynamics, (σ = 0.1, ))"
   ],
   "metadata": {},
   "execution_count": null
  },
  {
   "outputs": [],
   "cell_type": "code",
   "source": [
    "sol = solve(ds, 1.; alg=UniversalDynamics.EM(), seed=1, dt=0.01);\n",
    "plot(sol, vars=1, label=\"S(t)\")"
   ],
   "metadata": {},
   "execution_count": null
  },
  {
   "outputs": [],
   "cell_type": "code",
   "source": [
    "plot(sol, vars=2:4, label=[\"x₁(t)\" \"x₂(t)\" \"x₃(t)\"])"
   ],
   "metadata": {},
   "execution_count": null
  },
  {
   "outputs": [],
   "cell_type": "code",
   "source": [
    "plot(sol, vars=5, label=\"B(t)\")"
   ],
   "metadata": {},
   "execution_count": null
  },
  {
   "cell_type": "markdown",
   "source": [
    "---\n",
    "\n",
    "*This notebook was generated using [Literate.jl](https://github.com/fredrikekre/Literate.jl).*"
   ],
   "metadata": {}
  }
 ],
 "nbformat_minor": 3,
 "metadata": {
  "language_info": {
   "file_extension": ".jl",
   "mimetype": "application/julia",
   "name": "julia",
   "version": "1.5.3"
  },
  "kernelspec": {
   "name": "julia-1.5",
   "display_name": "Julia 1.5.3",
   "language": "julia"
  }
 },
 "nbformat": 4
}
