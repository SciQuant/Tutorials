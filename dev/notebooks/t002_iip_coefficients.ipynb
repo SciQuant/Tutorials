{
 "cells": [
  {
   "cell_type": "markdown",
   "source": [
    "# Tutorial 2: Coefficients (in place)"
   ],
   "metadata": {}
  },
  {
   "cell_type": "markdown",
   "source": [
    "In this tutorial, you will learn:\n",
    "\n",
    "   - How to declare in-place coefficients for dynamical systems.\n",
    "\n",
    "## Introduction\n",
    "\n",
    "In the previous tutorial we have learned how to declare system dynamics as well as model\n",
    "dynamics individually. Next, we constructed a dynamical system by using a collection of\n",
    "dynamics but without considering coefficients. Now we would like to focus in the\n",
    "construction of the coefficients that will allows us to define a dynamical system that can\n",
    "be solved by applying a discretization scheme.\n",
    "\n",
    "First we must realize that there are two types of coefficients: in-place (IIP) and\n",
    "out-of-place (OOP). An in-place function for a coefficient modifies an array in place by\n",
    "receiving its pointer as argument. An out-of-place function for a coefficient returns\n",
    "statically sized arrays. Depending on the size of the problem, one approach is better than\n",
    "the other. In this tutorial, we will focus in the in-place case. Checkout the next\n",
    "tutorial for the out-of-place case.\n",
    "\n",
    "## Setup\n",
    "\n",
    "The first step is to load the pertinent libraries for the tutorial:"
   ],
   "metadata": {}
  },
  {
   "outputs": [],
   "cell_type": "code",
   "source": [
    "using UniversalDynamics\n",
    "using UnPack\n",
    "using Plots"
   ],
   "metadata": {},
   "execution_count": null
  },
  {
   "cell_type": "markdown",
   "source": [
    "Always take into account that most of the objects have documentation that can be inspected\n",
    "using `?` followed by the object name. For example:\n",
    "\n",
    "```\n",
    "# Type ? to enter help mode\n",
    "help?> SystemDynamics\n",
    "```\n",
    "\n",
    "## In place coefficients\n",
    "\n",
    "Consider a stock ``S`` following the Black-Scholes-Merton model (BSM). Under the\n",
    "risk-neutral measure ``Q``, the stock process follows:"
   ],
   "metadata": {}
  },
  {
   "cell_type": "markdown",
   "source": [
    "$$\n",
    "dS(t) = r \\cdot S(t) \\cdot dt + σ \\cdot S(t) \\cdot dW^Q(t) \\quad S(0) = S₀,\n",
    "$$"
   ],
   "metadata": {}
  },
  {
   "cell_type": "markdown",
   "source": [
    "with risk-free interest rate ``r`` and volatility ``σ``. Let's define this dynamics\n",
    "using what we already know from the previous tutorial:"
   ],
   "metadata": {}
  },
  {
   "outputs": [],
   "cell_type": "code",
   "source": [
    "S0 = rand(1)\n",
    "S = SystemDynamics(S0)"
   ],
   "metadata": {},
   "execution_count": null
  },
  {
   "cell_type": "markdown",
   "source": [
    "The IIP drift `f!` and diffusion `g!` coefficients are given by:"
   ],
   "metadata": {}
  },
  {
   "outputs": [],
   "cell_type": "code",
   "source": [
    "function f!(du, u, p, t)\n",
    "    # unpack risk-free rate parameter\n",
    "    @unpack r = p\n",
    "\n",
    "    # modify du in-place using current stock state S(t) = u[1]\n",
    "    du[1] = r * u[1]\n",
    "\n",
    "    return nothing\n",
    "end\n",
    "\n",
    "function g!(du, u, p, t)\n",
    "    # unpack volatility parameter\n",
    "    @unpack σ = p\n",
    "\n",
    "    # modify du in-place using current stock state S(t) = u[1]\n",
    "    du[1] = σ * u[1]\n",
    "\n",
    "    return nothing\n",
    "end;"
   ],
   "metadata": {},
   "execution_count": null
  },
  {
   "cell_type": "markdown",
   "source": [
    "Now we are ready to declare a dynamical system with coefficients, dynamics and parameters:"
   ],
   "metadata": {}
  },
  {
   "outputs": [],
   "cell_type": "code",
   "source": [
    "dynamics = [:S => S]\n",
    "params = (r = 0.05, σ = 0.1)\n",
    "ds = DynamicalSystem(f!, g!, dynamics, params)"
   ],
   "metadata": {},
   "execution_count": null
  },
  {
   "cell_type": "markdown",
   "source": [
    "We can now apply a numerical scheme to solve the SDE. For example, the fixed time step,\n",
    "strong order 0.5 for all kind of noises, Euler-Maruyama scheme:"
   ],
   "metadata": {}
  },
  {
   "outputs": [],
   "cell_type": "code",
   "source": [
    "sol = solve(ds, 1.; alg=UniversalDynamics.EM(), seed=1, dt=0.01)\n",
    "plot(sol)"
   ],
   "metadata": {},
   "execution_count": null
  },
  {
   "cell_type": "markdown",
   "source": [
    "Or an adaptive time step, strong order 1.5 and weak order 2.0 for diagonal and scalar\n",
    "noise:"
   ],
   "metadata": {}
  },
  {
   "outputs": [],
   "cell_type": "code",
   "source": [
    "sol = solve(ds, 1.; alg=UniversalDynamics.SRIW1(), seed=1)\n",
    "plot(sol)"
   ],
   "metadata": {},
   "execution_count": null
  },
  {
   "cell_type": "markdown",
   "source": [
    "Let's spice up the example and consider stochastic interest rates given by a Multi-Factor\n",
    "Affine Short Rate model. This will allow us to use some additional features that comes in\n",
    "handy for building the coefficients.\n",
    "\n",
    "The Multi-Factor Short Rate model that we will refer to is decribed in [1] as ``AM₁(3)``\n",
    "in its ``Ar`` representation and its given by a System of SDEs described in the\n",
    "[documentation](https://sciquant.github.io/UniversalDynamics.jl/dev/ir/short_rate_model.html#Multi-Factor-Affine-Model).\n",
    "Our library allows us to describe such complex model fairly easy, requiring only the\n",
    "definition of some constants and functions."
   ],
   "metadata": {}
  },
  {
   "cell_type": "markdown",
   "source": [
    "Start by loading some parameters values for the Short Rate Model:"
   ],
   "metadata": {}
  },
  {
   "outputs": [],
   "cell_type": "code",
   "source": [
    "# load some parameters\n",
    "include(\"assets/DaiSingletonParameters_A3_1.jl\")\n",
    "(υ₀, θ₀, r₀, μ, ν, κ_rυ, κ, ῡ, θ̄, η, σ_θυ, σ_θr, σ_rυ, σ_rθ, ζ, α_r, β_θ) = DaiSingletonParameters()"
   ],
   "metadata": {},
   "execution_count": null
  },
  {
   "cell_type": "markdown",
   "source": [
    "Define all Short Rate model parameters, taking into account IIP parameter functions:"
   ],
   "metadata": {}
  },
  {
   "outputs": [],
   "cell_type": "code",
   "source": [
    "x0 = [υ₀, θ₀, r₀]\n",
    "\n",
    "ξ₀!(t) = zero(t)\n",
    "\n",
    "function ξ₁!(u, t)\n",
    "    u[1] = 0\n",
    "    u[2] = 0\n",
    "    u[3] = 1\n",
    "    return nothing\n",
    "end\n",
    "\n",
    "function ϰ!(u, t)\n",
    "    u[1,1] = μ\n",
    "    u[2,2] = ν\n",
    "    u[3,1] = κ_rυ\n",
    "    u[3,2] = -κ\n",
    "    u[3,3] = κ\n",
    "    return nothing\n",
    "end\n",
    "\n",
    "function θ!(u, t)\n",
    "    u[1] = ῡ\n",
    "    u[2] = θ̄\n",
    "    u[3] = θ̄\n",
    "    return nothing\n",
    "end\n",
    "\n",
    "function Σ!(u, t)\n",
    "    u[1,1] = η\n",
    "    u[2,1] = η * σ_θυ\n",
    "    u[2,2] = 1\n",
    "    u[2,3] = σ_θr\n",
    "    u[3,1] = η * σ_rυ\n",
    "    u[3,2] = σ_rθ\n",
    "    u[3,3] = 1\n",
    "    return nothing\n",
    "end\n",
    "\n",
    "function α!(u, t)\n",
    "    u[1] = 0\n",
    "    u[2] = ζ^2\n",
    "    u[3] = α_r\n",
    "    return nothing\n",
    "end\n",
    "\n",
    "function β!(u, t)\n",
    "    u[1,1] = 1\n",
    "    u[2,1] = β_θ\n",
    "    u[3,1] = 1\n",
    "    return nothing\n",
    "end\n",
    "\n",
    "x = MultiFactorAffineModelDynamics(x0, ϰ!, θ!, Σ!, α!, β!, ξ₀!, ξ₁!; noise=NonDiagonalNoise(3))"
   ],
   "metadata": {},
   "execution_count": null
  },
  {
   "cell_type": "markdown",
   "source": [
    "We will also solve the Money Market Account ``B(t)`` differential equation for the short\n",
    "model with the integrator, so we have to define its dynamics:"
   ],
   "metadata": {}
  },
  {
   "outputs": [],
   "cell_type": "code",
   "source": [
    "B = SystemDynamics(ones(eltype(x), 1))"
   ],
   "metadata": {},
   "execution_count": null
  },
  {
   "cell_type": "markdown",
   "source": [
    "As always, before declaring the dynamical system, define a dynamics container:"
   ],
   "metadata": {}
  },
  {
   "outputs": [],
   "cell_type": "code",
   "source": [
    "dynamics = [:S => S, :x => x, :B => B]"
   ],
   "metadata": {},
   "execution_count": null
  },
  {
   "cell_type": "markdown",
   "source": [
    "Now, let's construct the IIP drift `f!` and diffusion `g!` coefficients for this new\n",
    "scenario."
   ],
   "metadata": {}
  },
  {
   "outputs": [],
   "cell_type": "code",
   "source": [
    "function f!(du, u, p, t)\n",
    "    @unpack _dynamics, _securities_ = p\n",
    "    @unpack _x = _dynamics\n",
    "    @unpack _S_, _x_, _B_ = _securities_\n",
    "\n",
    "    S = remake(_S_, u, du)\n",
    "    x = remake(_x_, u, du)\n",
    "    B = remake(_B_, u, du)\n",
    "\n",
    "    IR = FixedIncomeSecurities(_x, x, B)\n",
    "\n",
    "    S.dx[] = IR.r(t) * S(t)\n",
    "    drift!(x.dx, x(t), get_parameters(_x), t)\n",
    "    B.dx[] = IR.r(t) * IR.B(t)\n",
    "\n",
    "    return nothing\n",
    "end\n",
    "\n",
    "function g!(du, u, p, t)\n",
    "    @unpack _dynamics, _securities_ = p\n",
    "    @unpack _x = _dynamics\n",
    "    @unpack _S_, _x_, _B_ = _securities_\n",
    "    @unpack σ = p\n",
    "\n",
    "    S = remake(_S_, u, du)\n",
    "    x = remake(_x_, u, du)\n",
    "    B = remake(_B_, u, du)\n",
    "\n",
    "    S.dx[] = σ * S(t)\n",
    "    diffusion!(x.dx, x(t), get_parameters(_x), t)\n",
    "    B.dx[] = zero(eltype(u))\n",
    "\n",
    "    return nothing\n",
    "end;"
   ],
   "metadata": {},
   "execution_count": null
  },
  {
   "cell_type": "markdown",
   "source": [
    "There are many things that are worth to be explained for the coefficients functions:\n",
    "\n",
    "   - `_dynamics` is a special variable containing all the dynamics,\n",
    "   - `_securities_` is a special variable containing one security for each dynamics (why\n",
    "     securities are useful will become clearer later),\n",
    "   - dynamics names are preceded by an underscore for each dynamics,\n",
    "   - securities names are preceded and followed by an underscore for each dynamics,\n",
    "   - `FixedIncomeSecurities` constructs all the basic fixed income securities for the\n",
    "     pertinent interest rate model, for example the discount factor, zero coupon bond,\n",
    "     simple forward rate, spot or Libor rate, etc.\n",
    "\n",
    "Consider building the diffusion coefficient function without using securities:"
   ],
   "metadata": {}
  },
  {
   "outputs": [],
   "cell_type": "code",
   "source": [
    "function g_tedious!(du, u, p, t)\n",
    "    @unpack _dynamics = p\n",
    "    @unpack _x = _dynamics\n",
    "    @unpack σ = p\n",
    "\n",
    "    S = view(u, 1:1)\n",
    "    x = view(u, 2:4)\n",
    "    B = view(u, 5:5)\n",
    "\n",
    "    dS = view(du, 1:1, 1:1)\n",
    "    dx = view(du, 2:4, 2:4)\n",
    "    dB = view(du, 5:5, 5:5)\n",
    "\n",
    "    dS[] = σ * S[]\n",
    "    diffusion!(dx, x, get_parameters(_x), t)\n",
    "    dB[] = zero(eltype(u))\n",
    "\n",
    "    return nothing\n",
    "end;"
   ],
   "metadata": {},
   "execution_count": null
  },
  {
   "cell_type": "markdown",
   "source": [
    "Having securities + `remake` allows us to avoid thinking about indexes and `view`s.\n",
    "\n",
    "We can now proceed with the numerical solution:"
   ],
   "metadata": {}
  },
  {
   "outputs": [],
   "cell_type": "code",
   "source": [
    "ds = DynamicalSystem(f!, g!, dynamics, params)"
   ],
   "metadata": {},
   "execution_count": null
  },
  {
   "outputs": [],
   "cell_type": "code",
   "source": [
    "sol = solve(ds, 1.; alg=UniversalDynamics.EM(), seed=1, dt=0.01);\n",
    "plot(sol, vars=1, label=\"S(t)\")"
   ],
   "metadata": {},
   "execution_count": null
  },
  {
   "outputs": [],
   "cell_type": "code",
   "source": [
    "plot(sol, vars=2:4, label=[\"x₁(t)\" \"x₂(t)\" \"x₃(t)\"])"
   ],
   "metadata": {},
   "execution_count": null
  },
  {
   "outputs": [],
   "cell_type": "code",
   "source": [
    "plot(sol, vars=5, label=\"B(t)\")"
   ],
   "metadata": {},
   "execution_count": null
  },
  {
   "cell_type": "markdown",
   "source": [
    "A final useful tip or remark is that declaring a dynamical system without coefficients\n",
    "allows to check the `noise_rate_prototype` attribute, which helps undestanding what we\n",
    "must build in the diffusion coefficient:"
   ],
   "metadata": {}
  },
  {
   "outputs": [],
   "cell_type": "code",
   "source": [
    "ds = DynamicalSystem(dynamics)"
   ],
   "metadata": {},
   "execution_count": null
  },
  {
   "outputs": [],
   "cell_type": "code",
   "source": [
    "get_noise_rate_prototype(ds)"
   ],
   "metadata": {},
   "execution_count": null
  },
  {
   "cell_type": "markdown",
   "source": [
    "[1] Dai, Q. and Singleton, K.J. (2000), Specification Analysis of Affine Term Structure\n",
    "Models."
   ],
   "metadata": {}
  },
  {
   "cell_type": "markdown",
   "source": [
    "---\n",
    "\n",
    "*This notebook was generated using [Literate.jl](https://github.com/fredrikekre/Literate.jl).*"
   ],
   "metadata": {}
  }
 ],
 "nbformat_minor": 3,
 "metadata": {
  "language_info": {
   "file_extension": ".jl",
   "mimetype": "application/julia",
   "name": "julia",
   "version": "1.5.3"
  },
  "kernelspec": {
   "name": "julia-1.5",
   "display_name": "Julia 1.5.3",
   "language": "julia"
  }
 },
 "nbformat": 4
}
