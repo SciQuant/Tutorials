{
 "cells": [
  {
   "cell_type": "markdown",
   "source": [
    "# Tutorial 4: Simulation"
   ],
   "metadata": {}
  },
  {
   "cell_type": "markdown",
   "source": [
    "In this tutorial, you will learn:\n",
    "\n",
    "   - How to simulate, i.e. numerically solve, dynamical systems.\n",
    "\n",
    "## Introduction\n",
    "\n",
    "In the previous tutorials we have learned how to declare dynamical systems and briefly\n",
    "shown how to solve them using a numerical scheme. Now we focus on Monte Carlo simulations,\n",
    "i.e. solving the SDEs for many trajectories."
   ],
   "metadata": {}
  },
  {
   "cell_type": "markdown",
   "source": [
    "## Setup\n",
    "\n",
    "The first step is to load the pertinent libraries for the tutorial:"
   ],
   "metadata": {}
  },
  {
   "outputs": [],
   "cell_type": "code",
   "source": [
    "using UniversalDynamics\n",
    "using UnPack\n",
    "using Plots"
   ],
   "metadata": {},
   "execution_count": null
  },
  {
   "cell_type": "markdown",
   "source": [
    "## Simulation"
   ],
   "metadata": {}
  },
  {
   "cell_type": "markdown",
   "source": [
    "We need a dynamical system first. The most simple case is probably the BSM model, which\n",
    "has been already described and used in previous tutorials:"
   ],
   "metadata": {}
  },
  {
   "outputs": [],
   "cell_type": "code",
   "source": [
    "S0 = @SVector rand(1)\n",
    "S = SystemDynamics(S0)\n",
    "\n",
    "function f(u, p, t)\n",
    "    @unpack _securities_ = p\n",
    "    @unpack _S_ = _securities_\n",
    "\n",
    "    # unpack risk-free rate parameter\n",
    "    @unpack r = p\n",
    "\n",
    "    S = remake(_S_, u, t)\n",
    "\n",
    "    dS = r * S(t)\n",
    "\n",
    "    return SVector{1}(dS)\n",
    "end\n",
    "\n",
    "function g(u, p, t)\n",
    "    @unpack _securities_ = p\n",
    "    @unpack _S_ = _securities_\n",
    "\n",
    "    # unpack volatility parameter\n",
    "    @unpack σ = p\n",
    "\n",
    "    S = remake(_S_, u, t)\n",
    "\n",
    "    dS = σ * S(t)\n",
    "\n",
    "    return SVector{1}(dS)\n",
    "end\n",
    "\n",
    "dynamics = [:S => S]\n",
    "params = (r = 0.05, σ = 0.1)\n",
    "ds = DynamicalSystem(f, g, dynamics, params)"
   ],
   "metadata": {},
   "execution_count": null
  },
  {
   "cell_type": "markdown",
   "source": [
    "Now we can simulate for any number of trayectories:"
   ],
   "metadata": {}
  },
  {
   "outputs": [],
   "cell_type": "code",
   "source": [
    "# the number of trajectories\n",
    "N = 10\n",
    "sol = montecarlo(ds, 1., N; seed=1)\n",
    "plot(sol)"
   ],
   "metadata": {},
   "execution_count": null
  },
  {
   "cell_type": "markdown",
   "source": [
    "We can also change both the default Monte Carlo scheme and the ensemble algorithm:"
   ],
   "metadata": {}
  },
  {
   "outputs": [],
   "cell_type": "code",
   "source": [
    "sol = montecarlo(\n",
    "    ds, 1., N;\n",
    "    alg=UniversalDynamics.EM(), dt=0.01, ensemblealg=UniversalDynamics.EnsembleSerial(), seed=1\n",
    ")\n",
    "plot(sol)"
   ],
   "metadata": {},
   "execution_count": null
  },
  {
   "cell_type": "markdown",
   "source": [
    "---\n",
    "\n",
    "*This notebook was generated using [Literate.jl](https://github.com/fredrikekre/Literate.jl).*"
   ],
   "metadata": {}
  }
 ],
 "nbformat_minor": 3,
 "metadata": {
  "language_info": {
   "file_extension": ".jl",
   "mimetype": "application/julia",
   "name": "julia",
   "version": "1.5.3"
  },
  "kernelspec": {
   "name": "julia-1.5",
   "display_name": "Julia 1.5.3",
   "language": "julia"
  }
 },
 "nbformat": 4
}
