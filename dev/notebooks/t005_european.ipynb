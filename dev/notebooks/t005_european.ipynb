{
 "cells": [
  {
   "cell_type": "markdown",
   "source": [
    "# Tutorial 5: European Option"
   ],
   "metadata": {}
  },
  {
   "cell_type": "markdown",
   "source": [
    "In this tutorial, you will learn:\n",
    "\n",
    "   - How to price European style derivatives using a Monte Carlo expected value estimate.\n",
    "\n",
    "## Introduction\n",
    "\n",
    "Recall that the price of a European style derivative with time ``T`` payout ``V(T)`` is\n",
    "given by the expectation under an equivalent martingale measure. Specifically, given a\n",
    "deflator or numeraire ``N`` and assuming the existence of a equivalent martingale measure\n",
    "``Q^N`` induced by ``N``, we have:"
   ],
   "metadata": {}
  },
  {
   "cell_type": "markdown",
   "source": [
    "$$\n",
    "V(t) = N(t) \\cdot E_t^{Q_N} \\left[ \\frac{V(T)}{N(T)} \\right].\n",
    "$$"
   ],
   "metadata": {}
  },
  {
   "cell_type": "markdown",
   "source": [
    "The Monte Carlo method provides a numerical technique to compute the expectation of a\n",
    "random variable. In that context, we can proceed with the pricing of a given product once\n",
    "we have our simulations for the processes or dynamics that are involved and using the\n",
    "Strong Law of Large Numbers."
   ],
   "metadata": {}
  },
  {
   "cell_type": "markdown",
   "source": [
    "## Setup\n",
    "\n",
    "The first step is to load the pertinent libraries for the tutorial:"
   ],
   "metadata": {}
  },
  {
   "outputs": [],
   "cell_type": "code",
   "source": [
    "using UniversalPricing\n",
    "using UnPack"
   ],
   "metadata": {},
   "execution_count": null
  },
  {
   "cell_type": "markdown",
   "source": [
    "## Pricing\n",
    "\n",
    "Consider the same dividend-free stock ``S`` with Black-Scholes-Merton dynamics under the\n",
    "risk-neutral measure that we have already discussed in previous tutorials:"
   ],
   "metadata": {}
  },
  {
   "outputs": [],
   "cell_type": "code",
   "source": [
    "S0 = @SVector ones(1)\n",
    "S = SystemDynamics(S0)\n",
    "\n",
    "function f(u, p, t)\n",
    "    @unpack _securities_ = p\n",
    "    @unpack _S_ = _securities_\n",
    "\n",
    "    # unpack risk-free rate parameter\n",
    "    @unpack r = p\n",
    "\n",
    "    S = remake(_S_, u, t)\n",
    "\n",
    "    dS = r * S(t)\n",
    "\n",
    "    return SVector{1}(dS)\n",
    "end\n",
    "\n",
    "function g(u, p, t)\n",
    "    @unpack _securities_ = p\n",
    "    @unpack _S_ = _securities_\n",
    "\n",
    "    # unpack volatility parameter\n",
    "    @unpack σ = p\n",
    "\n",
    "    S = remake(_S_, u, t)\n",
    "\n",
    "    dS = σ * S(t)\n",
    "\n",
    "    return SVector{1}(dS)\n",
    "end\n",
    "\n",
    "dynamics = [:S => S]\n",
    "params = (r = 0.05, σ = 0.1)\n",
    "ds = DynamicalSystem(f, g, dynamics, params)\n",
    "sol = montecarlo(ds, 1., 10_000; seed=1);"
   ],
   "metadata": {},
   "execution_count": null
  },
  {
   "cell_type": "markdown",
   "source": [
    "The payoff for a vanilla call option with strike ``K`` and maturity ``T`` is given by:"
   ],
   "metadata": {}
  },
  {
   "cell_type": "markdown",
   "source": [
    "$$\n",
    "V(T) = \\max \\left( S(T) - K, 0 \\right).\n",
    "$$"
   ],
   "metadata": {}
  },
  {
   "cell_type": "markdown",
   "source": [
    "Using the money market account ``B(t)`` as numeraire, we have:"
   ],
   "metadata": {}
  },
  {
   "cell_type": "markdown",
   "source": [
    "$$\n",
    "V(0) = B(0) \\cdot E_t^{Q} \\left[ \\frac{V(T)}{B(T)} \\right] = E_t^{Q} \\left[ D(0, T) \\cdot V(T) \\right]\n",
    "$$"
   ],
   "metadata": {}
  },
  {
   "cell_type": "markdown",
   "source": [
    "with ``D(t, T)`` the discount factor, which in the simple flat rate model is given by:"
   ],
   "metadata": {}
  },
  {
   "cell_type": "markdown",
   "source": [
    "$$\n",
    "D(t, T) = \\exp \\left( -r \\cdot (T - t) \\right).\n",
    "$$"
   ],
   "metadata": {}
  },
  {
   "cell_type": "markdown",
   "source": [
    "In order to price such derivative, we first need to declare a function that computes the\n",
    "discounted payoff given the simulations and a set of parameters:"
   ],
   "metadata": {}
  },
  {
   "outputs": [],
   "cell_type": "code",
   "source": [
    "function discounted_payoff(sol, p)\n",
    "    @unpack _securities_ = p\n",
    "    @unpack _S_ = _securities_\n",
    "\n",
    "    # unpack strike and maturity parameters\n",
    "    @unpack r, K, T = p\n",
    "\n",
    "    S = remake(_S_, sol)\n",
    "\n",
    "    return exp(-r * (T - 0)) * max(S(T) - K, 0)\n",
    "end;"
   ],
   "metadata": {},
   "execution_count": null
  },
  {
   "cell_type": "markdown",
   "source": [
    "We can now compute the expectation that yields to the fair price of the option:"
   ],
   "metadata": {}
  },
  {
   "outputs": [],
   "cell_type": "code",
   "source": [
    "params = (ds.params..., T = 1., K = 1.)\n",
    "price = 𝔼(discounted_payoff, sol, params)"
   ],
   "metadata": {},
   "execution_count": null
  },
  {
   "cell_type": "markdown",
   "source": [
    "---\n",
    "\n",
    "*This notebook was generated using [Literate.jl](https://github.com/fredrikekre/Literate.jl).*"
   ],
   "metadata": {}
  }
 ],
 "nbformat_minor": 3,
 "metadata": {
  "language_info": {
   "file_extension": ".jl",
   "mimetype": "application/julia",
   "name": "julia",
   "version": "1.5.3"
  },
  "kernelspec": {
   "name": "julia-1.5",
   "display_name": "Julia 1.5.3",
   "language": "julia"
  }
 },
 "nbformat": 4
}
