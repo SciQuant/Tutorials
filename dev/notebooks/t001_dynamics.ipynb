{
 "cells": [
  {
   "cell_type": "markdown",
   "source": [
    "# Tutorial 1: Dynamics Declaration"
   ],
   "metadata": {}
  },
  {
   "cell_type": "markdown",
   "source": [
    "In this tutorial, you will learn:\n",
    "\n",
    "   - How to declare dynamics with arbitrary coefficients,\n",
    "   - How to declare dynamics with known coefficients,\n",
    "   - How to declare dynamical systems.\n",
    "\n",
    "# Introduction\n",
    "\n",
    "In **UniversalDynamics** a dynamics represents continuous time, ``D``-dimensional Ito\n",
    "Systems of Stochastic Differential Equations (SDEs) in a time span ``\\mathbb{I} =\n",
    "\\left[t_0, T \\right]``:\n",
    "\n",
    "$$\n",
    "d\\vec{u}(t) = f(t, \\vec{u}(t)) \\cdot dt + g(t, \\vec{u}(t)) \\cdot d\\vec{W}(t), \\quad \\vec{u}(t_0) = \\vec{u}_0,\\\\\n",
    "$$\n",
    "\n",
    "with drift coefficient ``f \\colon \\mathbb{I} \\times \\mathbb{R}^D \\rightarrow\n",
    "\\mathbb{R}^D``, diffusion coefficient ``g \\colon \\mathbb{I} \\times \\mathbb{R}^D\n",
    "\\rightarrow \\mathbb{R}^{D \\times M}``, ``M``-dimensional driving Wiener correlated or\n",
    "uncorrelated process ``\\vec{W}(t)`` and initial condition ``\\vec{u}_0``.\n",
    "\n",
    "The library represents dynamics by means of two main types, `SystemDynamics` and\n",
    "`ModelDynamics`. The first case refers to SDEs with arbitrary coefficients while the\n",
    "second case is a supertype for dynamics with known coefficients that are already\n",
    "implemented in the library.\n",
    "\n",
    "Finally, as discussed in the [documentation](https://sciquant.github.io/UniversalDynamics.jl/dev/ad/dynamics.html#Introduction),\n",
    "the general expression of a dynamics can be reduced depending on the noise type.\n",
    "\n",
    "# Setup\n",
    "\n",
    "The first step is to load the library:"
   ],
   "metadata": {}
  },
  {
   "outputs": [],
   "cell_type": "code",
   "source": [
    "using UniversalDynamics"
   ],
   "metadata": {},
   "execution_count": null
  },
  {
   "cell_type": "markdown",
   "source": [
    "Always take into account that any object documentation can be inspected using `?` followed\n",
    "by the object name. For example:"
   ],
   "metadata": {}
  },
  {
   "cell_type": "markdown",
   "source": [
    "```\n",
    "# Type ? to enter help mode\n",
    "help?> SystemDynamics\n",
    "```\n",
    "\n",
    "# System Dynamics\n",
    "\n",
    "A System of Stochastic Differential Equations with arbitrary coefficients is declared by\n",
    "its initial condition or state, initial time, noise type and noise correlations. For\n",
    "example, a three dimensional system with scalar noise is given using:"
   ],
   "metadata": {}
  },
  {
   "outputs": [],
   "cell_type": "code",
   "source": [
    "x0 = rand(3)\n",
    "x = SystemDynamics(x0; noise=ScalarNoise())"
   ],
   "metadata": {},
   "execution_count": null
  },
  {
   "cell_type": "markdown",
   "source": [
    "Notice that since `x0 isa Vector`, the system is defined in its in-place form. Otherwise,\n",
    "if we would like to work with the out of place version, `x0` must be defined as a\n",
    "`SVector`.\n",
    "\n",
    "On the other hand, diagonal noise is the default noise type, for example:"
   ],
   "metadata": {}
  },
  {
   "outputs": [],
   "cell_type": "code",
   "source": [
    "y0 = rand(2)\n",
    "y = SystemDynamics(y0)"
   ],
   "metadata": {},
   "execution_count": null
  },
  {
   "cell_type": "markdown",
   "source": [
    "Lastly, the non-diagonal noise case with correlated noises can be given using:"
   ],
   "metadata": {}
  },
  {
   "outputs": [],
   "cell_type": "code",
   "source": [
    "z0 = rand(1)\n",
    "ρ = [exp(abs(i - j) / 2 * log(0.663)) for i in 1:3, j in 1:3]\n",
    "z = SystemDynamics(z0; noise=NonDiagonalNoise(3), ρ=ρ)"
   ],
   "metadata": {},
   "execution_count": null
  },
  {
   "cell_type": "markdown",
   "source": [
    "Notice that coefficients for these kind of dynamics haven't been described yet. They are\n",
    "provided in a further step, only if needed. This will become more clear after reading the\n",
    "following sections."
   ],
   "metadata": {}
  },
  {
   "cell_type": "markdown",
   "source": [
    "# Model Dynamics\n",
    "\n",
    "A Model Dynamics refers to Stochastic Differential Equations that are known and fairly\n",
    "common in finance, such that it is worth having their coefficients implemented in the\n",
    "library. In this case, we need to provide additional parameters for the coefficients. For\n",
    "example, the well known One-Factor Vasicek model can be given as a One-Factor Short Rate\n",
    "Model of Affine type (see documentation\n",
    "[here](https://sciquant.github.io/UniversalDynamics.jl/dev/ir/short_rate_model.html#One-Factor-Affine-Model)\n",
    "for further details) with some assumptions, namely:\n",
    "   - ``κ``, ``θ`` and ``Σ`` as time independent parameters,\n",
    "   - ``α = 1`` and ``β = 0``."
   ],
   "metadata": {}
  },
  {
   "outputs": [],
   "cell_type": "code",
   "source": [
    "r0 = rand(1)\n",
    "κ(t) = 0.4363\n",
    "θ(t) = 0.0613\n",
    "Σ(t) = 0.1491\n",
    "r = OneFactorAffineModelDynamics(r0, κ, θ, Σ, one, zero)"
   ],
   "metadata": {},
   "execution_count": null
  },
  {
   "cell_type": "markdown",
   "source": [
    "# Dynamical Systems"
   ],
   "metadata": {}
  },
  {
   "cell_type": "markdown",
   "source": [
    "group dynamics in a container"
   ],
   "metadata": {}
  },
  {
   "outputs": [],
   "cell_type": "code",
   "source": [
    "dynamics = [:x => x, :y => y, :z => z]"
   ],
   "metadata": {},
   "execution_count": null
  },
  {
   "cell_type": "markdown",
   "source": [
    "compute dynamical system"
   ],
   "metadata": {}
  },
  {
   "outputs": [],
   "cell_type": "code",
   "source": [
    "ds = DynamicalSystem(dynamics)"
   ],
   "metadata": {},
   "execution_count": null
  },
  {
   "cell_type": "markdown",
   "source": [
    "---\n",
    "\n",
    "*This notebook was generated using [Literate.jl](https://github.com/fredrikekre/Literate.jl).*"
   ],
   "metadata": {}
  }
 ],
 "nbformat_minor": 3,
 "metadata": {
  "language_info": {
   "file_extension": ".jl",
   "mimetype": "application/julia",
   "name": "julia",
   "version": "1.5.3"
  },
  "kernelspec": {
   "name": "julia-1.5",
   "display_name": "Julia 1.5.3",
   "language": "julia"
  }
 },
 "nbformat": 4
}
