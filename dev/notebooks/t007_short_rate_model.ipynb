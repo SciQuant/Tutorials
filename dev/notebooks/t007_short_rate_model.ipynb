{
 "cells": [
  {
   "cell_type": "markdown",
   "source": [
    "# Tutorial 7: Short Rate Model"
   ],
   "metadata": {}
  },
  {
   "cell_type": "markdown",
   "source": [
    "In this tutorial, you will learn:\n",
    "\n",
    "   - How to declare Short Rate Model dynamics correctly.\n",
    "\n",
    "## Introduction\n",
    "\n",
    "We have already presented some short rate models in previous tutorials. In this tutorial\n",
    "we show more details but the general aspects have been already presented.\n",
    "\n",
    "## Setup\n",
    "\n",
    "The first step is to load the pertinent libraries for the tutorial:"
   ],
   "metadata": {}
  },
  {
   "outputs": [],
   "cell_type": "code",
   "source": [
    "using UniversalDynamics\n",
    "using UniversalPricing\n",
    "using UnPack"
   ],
   "metadata": {},
   "execution_count": null
  },
  {
   "cell_type": "markdown",
   "source": [
    "## One-Factor Affine Short Rate Model\n",
    "\n",
    "The detailed documentation for such model is presented\n",
    "[here](https://sciquant.github.io/UniversalDynamics.jl/dev/ir/short_rate_model.html#One-Factor-Affine-Model).\n",
    "As you might see, this model involves practically all the most used models in practice,\n",
    "such as Vasicek, Cox-Ingersoll-Ross, Hull-White and Gaussian Short Rate (GSR). For\n",
    "example, the Vasicek model can be declared as:"
   ],
   "metadata": {}
  },
  {
   "outputs": [],
   "cell_type": "code",
   "source": [
    "r0 = rand(1)\n",
    "κ(t) = 0.4363\n",
    "θ(t) = 0.0613\n",
    "Σ(t) = 0.1491\n",
    "α(t) = one(t)\n",
    "β(t) = zero(t)\n",
    "r = OneFactorAffineModelDynamics(r0, κ, θ, Σ, α, β)"
   ],
   "metadata": {},
   "execution_count": null
  },
  {
   "cell_type": "markdown",
   "source": [
    "The fact that ``κ``, ``θ`` and ``Σ`` are time independent parameters, ``α = 1``, ``β =\n",
    "0``, ``\\xi_0 = 0`` and ``\\xi_1 = 1`` makes the One-Factor Affine model collapse to a\n",
    "Vasicek short rate model.\n",
    "\n",
    "## Multi-Factor Affine Short Rate Model\n",
    "\n",
    "The detailed documentation for such model is presented\n",
    "[here](https://sciquant.github.io/UniversalDynamics.jl/dev/ir/short_rate_model.html#Multi-Factor-Affine-Model).\n",
    "It can be seen that this model generalizes the One-Factor case in a beautiful way. The\n",
    "only task left to the user is to define parameters. Take into account that those\n",
    "parameters have to be declared differently depending if we want to work with an in-place\n",
    "or out-of-place model version. This is because we want to avoid allocations. For example,\n",
    "the in-place version of a function that returns a matrix might be:"
   ],
   "metadata": {}
  },
  {
   "outputs": [],
   "cell_type": "code",
   "source": [
    "function ϰ!(u, t)\n",
    "    u[1,1] = μ\n",
    "    u[2,2] = ν\n",
    "    u[3,1] = κ_rυ\n",
    "    u[3,2] = -κ\n",
    "    u[3,3] = κ\n",
    "    return nothing\n",
    "end"
   ],
   "metadata": {},
   "execution_count": null
  },
  {
   "cell_type": "markdown",
   "source": [
    "while its out-of-place version:"
   ],
   "metadata": {}
  },
  {
   "outputs": [],
   "cell_type": "code",
   "source": [
    "function ϰ(t)\n",
    "    return @SMatrix [\n",
    "        μ     0 0\n",
    "        0     ν 0\n",
    "        κ_rυ -κ κ\n",
    "    ]\n",
    "end"
   ],
   "metadata": {},
   "execution_count": null
  },
  {
   "cell_type": "markdown",
   "source": [
    "with known constants `μ`, `ν`, `κ_rυ` and `κ`."
   ],
   "metadata": {}
  },
  {
   "cell_type": "markdown",
   "source": [
    "## One-Factor Quadratic Short Rate Model\n",
    "\n",
    "The detailed documentation for such model is presented\n",
    "[here](https://sciquant.github.io/UniversalDynamics.jl/dev/ir/short_rate_model.html#One-Factor-Quadratic-Model)."
   ],
   "metadata": {}
  },
  {
   "cell_type": "markdown",
   "source": [
    "## Multi-Factor Quadratic Short Rate Model\n",
    "\n",
    "The detailed documentation for such model is presented\n",
    "[here](https://sciquant.github.io/UniversalDynamics.jl/dev/ir/short_rate_model.html#Multi-Factor-Quadratic-Model).\n",
    "Note that the same considerations regarding in or out-of place coefficients applies for\n",
    "this short rate model.\n",
    "\n",
    "## Money Market Account\n",
    "\n",
    "The current implementation of Short Rate models requires the declaration of the money\n",
    "market account as a separate process or dynamics. This is because we are insterested in\n",
    "solving its differential equation in the integrator, jointly with the short rate dynamics.\n",
    "In this context, if you are interested in using the money market account you must declare\n",
    "its dynamics:"
   ],
   "metadata": {}
  },
  {
   "outputs": [],
   "cell_type": "code",
   "source": [
    "# money market account dynamics (IIP case)\n",
    "B = SystemDynamics([1.])"
   ],
   "metadata": {},
   "execution_count": null
  },
  {
   "cell_type": "markdown",
   "source": [
    "and include it in the dynamics container for the `DynamicalSystem`."
   ],
   "metadata": {}
  },
  {
   "cell_type": "markdown",
   "source": [
    "## Basic Fixed Income Securities\n",
    "\n",
    "Interest rate models allows us to define all the basic fixed income securities. For the\n",
    "Short Rate Model, we can declare these objects simply using `FixedIncomeSecurities` inside\n",
    "any coefficient or payoff function, for example, for ``t ≤ T ≤ S``:"
   ],
   "metadata": {}
  },
  {
   "outputs": [],
   "cell_type": "code",
   "source": [
    "function test_coefficient_fis(du, u, p, t)\n",
    "    @unpack _dynamics, _securities_ = p\n",
    "    @unpack _r = _dynamics\n",
    "    @unpack _r_, _B_ = _securities_\n",
    "\n",
    "    T = 0.5\n",
    "    S = 1.0\n",
    "\n",
    "    r = remake(_r_, du, u, t)\n",
    "    B = remake(_B_, du, u, t)\n",
    "\n",
    "    IR = FixedIncomeSecurities(_r, r, B)\n",
    "\n",
    "    ps = 22\n",
    "    println(rpad(\"Spot rate: \", ps), IR.r(t))\n",
    "    println(rpad(\"Money market account: \", ps), IR.B(t))\n",
    "    println(rpad(\"Discount bond: \", ps), IR.P(t, T))\n",
    "    println(rpad(\"Simple forward rate: \", ps), IR.L(t, T, S))\n",
    "end\n",
    "\n",
    "dynamics = [:r => r, :B => B]\n",
    "ds = DynamicalSystem(dynamics)\n",
    "du = similar(get_state(ds))\n",
    "u = get_state(ds)\n",
    "p = get_parameters(ds)\n",
    "t = get_t0(ds)\n",
    "\n",
    "test_coefficient_fis(du, u, p, t)"
   ],
   "metadata": {},
   "execution_count": null
  },
  {
   "cell_type": "markdown",
   "source": [
    "For this dummy coefficient function we have been able to compute some basic fixed income\n",
    "securities that only needed information at the current time ``t``. On the other hand,\n",
    "computing the discount factor ``D(t, T)`` requires information at time ``T`` in the\n",
    "future, i.e. ``B(T)``. This implies that discount factors cannot be used in coefficient\n",
    "functions. However, they can be used in payoff function because in those cases we already\n",
    "have simulations up to time ``T`` or further, for example:"
   ],
   "metadata": {}
  },
  {
   "outputs": [],
   "cell_type": "code",
   "source": [
    "function f!(du, u, p, t)\n",
    "    @unpack _dynamics, _securities_ = p\n",
    "    @unpack _r = _dynamics\n",
    "    @unpack _r_, _B_ = _securities_\n",
    "\n",
    "    r = remake(_r_, du, u, t)\n",
    "    B = remake(_B_, du, u, t)\n",
    "\n",
    "    IR = FixedIncomeSecurities(_r, r, B)\n",
    "\n",
    "    drift!(r.dx, r(t), get_parameters(_r), t)\n",
    "    B.dx[] = IR.r(t) * B(t)\n",
    "\n",
    "    return nothing\n",
    "end\n",
    "\n",
    "function g!(du, u, p, t)\n",
    "    @unpack _dynamics, _securities_ = p\n",
    "    @unpack _r = _dynamics\n",
    "    @unpack _r_, _B_ = _securities_\n",
    "\n",
    "    r = remake(_r_, du, u, t)\n",
    "    B = remake(_B_, du, u, t)\n",
    "\n",
    "    IR = FixedIncomeSecurities(_r, r, B)\n",
    "\n",
    "    diffusion!(r.dx, r(t), get_parameters(_r), t)\n",
    "    B.dx[] = zero(eltype(u))\n",
    "\n",
    "    return nothing\n",
    "end\n",
    "\n",
    "ds = DynamicalSystem(f!, g!, dynamics, nothing)\n",
    "sol = solve(ds, 1., alg=UniversalDynamics.EM(), dt=0.01, seed=1)\n",
    "\n",
    "function test_payoff_fis(sol, p)\n",
    "    @unpack _dynamics, _securities_ = p\n",
    "    @unpack _r = _dynamics\n",
    "    @unpack _r_, _B_ = _securities_\n",
    "\n",
    "    T = 0.5\n",
    "    S = 1.0\n",
    "\n",
    "    r = remake(_r_, sol)\n",
    "    B = remake(_B_, sol)\n",
    "\n",
    "    IR = FixedIncomeSecurities(_r, r, B)\n",
    "\n",
    "    ps = 22\n",
    "    println(rpad(\"Spot rate: \", ps), IR.r(t))\n",
    "    println(rpad(\"Money market account: \", ps), IR.B(t))\n",
    "    println(rpad(\"Discount factor: \", ps), IR.D(t, T))\n",
    "    println(rpad(\"Discount bond: \", ps), IR.P(t, T))\n",
    "    println(rpad(\"Simple forward rate: \", ps), IR.L(t, T, S))\n",
    "    println(rpad(\"Libor rate: \", ps), IR.L(T, S))\n",
    "end\n",
    "\n",
    "test_payoff_fis(sol, p)"
   ],
   "metadata": {},
   "execution_count": null
  },
  {
   "cell_type": "markdown",
   "source": [
    "---\n",
    "\n",
    "*This notebook was generated using [Literate.jl](https://github.com/fredrikekre/Literate.jl).*"
   ],
   "metadata": {}
  }
 ],
 "nbformat_minor": 3,
 "metadata": {
  "language_info": {
   "file_extension": ".jl",
   "mimetype": "application/julia",
   "name": "julia",
   "version": "1.5.3"
  },
  "kernelspec": {
   "name": "julia-1.5",
   "display_name": "Julia 1.5.3",
   "language": "julia"
  }
 },
 "nbformat": 4
}
