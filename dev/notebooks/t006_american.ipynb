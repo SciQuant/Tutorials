{
 "cells": [
  {
   "cell_type": "markdown",
   "source": [
    "# Tutorial 6: American Option"
   ],
   "metadata": {}
  },
  {
   "cell_type": "markdown",
   "source": [
    "In this tutorial, you will learn:\n",
    "\n",
    "   - How to price American/Bermudan style derivatives using a Monte Carlo expected value\n",
    "     estimate through the Longstaff-Schwartz method.\n",
    "\n",
    "## Introduction"
   ],
   "metadata": {}
  },
  {
   "cell_type": "markdown",
   "source": [
    "## Setup\n",
    "\n",
    "The first step is to load the pertinent libraries for the tutorial:"
   ],
   "metadata": {}
  },
  {
   "outputs": [],
   "cell_type": "code",
   "source": [
    "using UniversalPricing\n",
    "using UnPack"
   ],
   "metadata": {},
   "execution_count": null
  },
  {
   "cell_type": "markdown",
   "source": [
    "## Pricing\n",
    "\n",
    "Consider the same dividend-free stock ``S`` with Black-Scholes-Merton dynamics under the\n",
    "risk-neutral measure that we have already discussed in previous tutorials:"
   ],
   "metadata": {}
  },
  {
   "outputs": [],
   "cell_type": "code",
   "source": [
    "S0 = SVector{1}(36.)\n",
    "S = SystemDynamics(S0)\n",
    "\n",
    "function f(u, p, t)\n",
    "    @unpack _securities_ = p\n",
    "    @unpack _S_ = _securities_\n",
    "\n",
    "    # unpack risk-free rate parameter\n",
    "    @unpack r = p\n",
    "\n",
    "    S = remake(_S_, u)\n",
    "\n",
    "    dS = r * S(t)\n",
    "\n",
    "    return SVector{1}(dS)\n",
    "end\n",
    "\n",
    "function g(u, p, t)\n",
    "    @unpack _securities_ = p\n",
    "    @unpack _S_ = _securities_\n",
    "\n",
    "    # unpack volatility parameter\n",
    "    @unpack σ = p\n",
    "\n",
    "    S = remake(_S_, u)\n",
    "\n",
    "    dS = σ * S(t)\n",
    "\n",
    "    return SVector{1}(dS)\n",
    "end\n",
    "\n",
    "T = 1.\n",
    "Δt = 1/50\n",
    "dynamics = [:S => S]\n",
    "params = (r = 0.06, σ = 0.2)\n",
    "ds = DynamicalSystem(f, g, dynamics, params)\n",
    "sol = montecarlo(ds, T, 10_000; alg=UniversalDynamics.EM(), dt=Δt, seed=1);"
   ],
   "metadata": {},
   "execution_count": null
  },
  {
   "cell_type": "markdown",
   "source": [
    "The Longstaff Schwartz algorithm expects, for any type of american/bermudan style\n",
    "derivative, the following arguments:\n",
    "\n",
    "   - the excercise value , i.e. a function that computes the net payment seen by the\n",
    "     option holder at each excercise date,\n",
    "   - a function for discounting between excercise dates,\n",
    "   - the regressors for the hold value fitting, and\n",
    "   - the set of excercise dates."
   ],
   "metadata": {}
  },
  {
   "cell_type": "markdown",
   "source": [
    "The excercise value at each excercise time ``t`` for an american put option with strike\n",
    "``K`` is given by:"
   ],
   "metadata": {}
  },
  {
   "cell_type": "markdown",
   "source": [
    "$$\n",
    "U(t) = \\max \\left( K - S(t), 0 \\right).\n",
    "$$"
   ],
   "metadata": {}
  },
  {
   "cell_type": "markdown",
   "source": [
    "The excercise value is provided as a function:"
   ],
   "metadata": {}
  },
  {
   "outputs": [],
   "cell_type": "code",
   "source": [
    "function U(u, p, t, Tenors=nothing, n=nothing)\n",
    "    @unpack _securities_ = p\n",
    "    @unpack _S_ = _securities_\n",
    "\n",
    "    # unpack strike parameter\n",
    "    @unpack r, K = p\n",
    "\n",
    "    S = remake(_S_, u)\n",
    "\n",
    "    return max(K - S(t), 0)\n",
    "end;"
   ],
   "metadata": {},
   "execution_count": null
  },
  {
   "cell_type": "markdown",
   "source": [
    "The excercise value function reads as follows: compute the excercise value given the\n",
    "simulation value `u` at excercise time `t` with the aid of parameters `p`. The other\n",
    "arguments, `Tenors` and `n` are optional and refer to `t = Tenors[n]`, where `Tenors` is\n",
    "the array containing all the excercise dates and 0 and `n` the index in such array. For\n",
    "some products it is useful to have such information, as we will see for Callable Libor\n",
    "Exotics.\n",
    "\n",
    "If we decide to work with the spot measure ``Q^B``, the discount factor is used for\n",
    "discounting. In this particular case, we assume a flat rate model as interest rate model:"
   ],
   "metadata": {}
  },
  {
   "outputs": [],
   "cell_type": "code",
   "source": [
    "function D(u, p, t, T, Tenors=nothing, n=nothing, n′=nothing)\n",
    "    # unpack risk-free interest rate parameter\n",
    "    @unpack r = p\n",
    "    return exp(-r * (T - t))\n",
    "end;"
   ],
   "metadata": {},
   "execution_count": null
  },
  {
   "cell_type": "markdown",
   "source": [
    "Note that this function has an additional argument, `n′`, such that `T = Tenors[n′]`.\n",
    "\n",
    "We now have to define the regressors for each early excercise date. For this particular\n",
    "case we use the stock price as regressor:"
   ],
   "metadata": {}
  },
  {
   "outputs": [],
   "cell_type": "code",
   "source": [
    "function R(u, p, t, Tenors=nothing, n=nothing)\n",
    "    @unpack _securities_ = p\n",
    "    @unpack _S_ = _securities_\n",
    "    S = remake(_S_, u)\n",
    "    return S(t)\n",
    "end"
   ],
   "metadata": {},
   "execution_count": null
  },
  {
   "cell_type": "markdown",
   "source": [
    "The excercise dates can be provided as a Tenor structure, where all dates must be sorted\n",
    "and include 0 or as a `τ` structure, where we must only provide the ``Δt_i`` between each\n",
    "early excercise date:"
   ],
   "metadata": {}
  },
  {
   "outputs": [],
   "cell_type": "code",
   "source": [
    "τ = fill(Δt, Int(T/Δt));"
   ],
   "metadata": {},
   "execution_count": null
  },
  {
   "cell_type": "markdown",
   "source": [
    "We can now compute the expectation that yields to the fair price of the option:"
   ],
   "metadata": {}
  },
  {
   "outputs": [],
   "cell_type": "code",
   "source": [
    "params = (ds.params..., K = 40.)\n",
    "price = callable_product_valuation(sol, params, U, D, R, τ=τ)"
   ],
   "metadata": {},
   "execution_count": null
  },
  {
   "cell_type": "markdown",
   "source": [
    "---\n",
    "\n",
    "*This notebook was generated using [Literate.jl](https://github.com/fredrikekre/Literate.jl).*"
   ],
   "metadata": {}
  }
 ],
 "nbformat_minor": 3,
 "metadata": {
  "language_info": {
   "file_extension": ".jl",
   "mimetype": "application/julia",
   "name": "julia",
   "version": "1.5.3"
  },
  "kernelspec": {
   "name": "julia-1.5",
   "display_name": "Julia 1.5.3",
   "language": "julia"
  }
 },
 "nbformat": 4
}
